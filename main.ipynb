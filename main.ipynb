{
 "cells": [
  {
   "cell_type": "code",
   "execution_count": 17,
   "metadata": {},
   "outputs": [],
   "source": [
    "# code for Navigation Systems Dijkstra's Algorithm assignment\n",
    "# by Robin Holfelder and Leon Prucker\n",
    "\n",
    "# setting the working directory to the current directory\n",
    "import os\n",
    "notebook_dir = os.getcwd()\n",
    "os.chdir(notebook_dir)\n",
    "\n",
    "# importing necessary libraries\n",
    "import numpy as np\n",
    "import pandas as pd\n",
    "from math import radians, sin, cos, sqrt, atan2\n",
    "from collections import defaultdict"
   ]
  },
  {
   "cell_type": "code",
   "execution_count": 16,
   "metadata": {},
   "outputs": [],
   "source": [
    "# general data loading\n",
    "#read nodelist\n",
    "nodelist = np.loadtxt('nodelist.txt')\n",
    "nodelist = nodelist.astype(int)\n",
    "# read arclist\n",
    "arclist = np.loadtxt('arclist.txt')\n",
    "\n",
    "#custom cost function\n",
    "# creating dictionary with keys from 1 to 7\n",
    "costs = defaultdict(int)\n",
    "costs[1] = 1000 # assign costs to each clazz key\n",
    "costs[2] = 1\n",
    "costs[3] = 10\n",
    "costs[4] = 1000\n",
    "costs[5] = 1000\n",
    "costs[6] = 3\n",
    "costs[7] = 5\n",
    "\n",
    "#creating a new column in arclist with custom cost and assigning values to it based on the costs dictionary\n",
    "arclist = np.hstack((arclist, np.zeros((arclist.shape[0], 1)))) \n",
    "for row in arclist:\n",
    "    row[6] = costs[int(row[5])] * row[2]\n",
    "\n",
    "\n",
    "\n",
    "arclist = arclist[:, [0,6]] # change this for different cost\n",
    "\n",
    "# [:, [0, 2]] is distance\n",
    "# [:, [0, 1]] is time\n",
    "# [:, [0, 6]] is custom cost (bike riding)\n",
    "\n",
    "\n",
    "arclist[:, 0] = arclist[:, 0].astype(int)\n",
    "\n"
   ]
  },
  {
   "cell_type": "code",
   "execution_count": 3,
   "metadata": {},
   "outputs": [],
   "source": [
    "#source node\n",
    "vs =  175\n",
    "\n",
    "# initialize variables\n",
    "ls = 0 \n",
    "big_T = {vs} # set of visited nodes\n",
    "big_P = set() # set of permanent nodes\n",
    "big_V = list(range(1, len(nodelist))) \n",
    "min_distance = float(\"inf\") # initialize minimum distance to infinity\n",
    "\n",
    "labels = {vs:0} # dictionary to store the distance from source node to each node"
   ]
  },
  {
   "cell_type": "code",
   "execution_count": 4,
   "metadata": {},
   "outputs": [],
   "source": [
    "\n",
    "n_nodes = len(nodelist)-1 # number of nodes\n",
    "outgoing = [0] * n_nodes # array with number of nodes as 0s\n",
    "line_number = 0 \n",
    "predecessor = {} # dictionary to store the predecessor of each node\n",
    "\n",
    "neighbor = defaultdict(list) # dictionary with keys as nodes and values as list of tuples with neighbors and cost\n",
    "for i in range(0, n_nodes):\n",
    "    outgoing[i] = nodelist[i+1] - nodelist[i]\n",
    "    for j in range(0, outgoing[i]):\n",
    "        neighbor[i+1].append(tuple(arclist[line_number+j]))\n",
    "    line_number = line_number + outgoing[i]\n",
    "\n",
    "\n"
   ]
  },
  {
   "cell_type": "code",
   "execution_count": 5,
   "metadata": {},
   "outputs": [],
   "source": [
    "# main dijkstra algorithm\n",
    "\n",
    "# initialize labels for all nodes to infinity except source node\n",
    "for vj in big_V:\n",
    "    if vj == vs:\n",
    "        labels[vj] = 0\n",
    "    else:\n",
    "        labels[vj] = float('inf')\n",
    "\n",
    "# main loop\n",
    "while big_T: # while big_T (temporary set) is not empty\n",
    "    min_distance = float('inf') # initialize minimum distance to infinity\n",
    "    for vj in big_T: # for each node in big_T\n",
    "        current_distance = labels[vj] # get the distance from source node to the node\n",
    "        if current_distance < min_distance: # if the distance is less than minimum distance\n",
    "            min_distance = current_distance # update minimum distance\n",
    "            vi = vj # update the node with minimum distance\n",
    "    big_P.add(vi) # add the node with minimum distance to big_P (permanent set)\n",
    "    big_T.remove(vi) # remove the node with minimum distance from big_T (temporary set)\n",
    "    for vj, weight in neighbor[vi]: # for each neighbor of the node with minimum distance\n",
    "        if vj not in big_P and vj not in big_T: # if the neighbor is not in big_P and not in big_T\n",
    "            labels[vj] = labels[vi] + weight # update the distance from source node to the neighbor\n",
    "            predecessor[vj] = vi # update the predecessor of the neighbor\n",
    "            big_T.add(vj) # add the neighbor to big_T\n",
    "        elif vj in big_T and labels[vi] + weight < labels[vj]: # if the neighbor is in big_T and the distance from source node to the neighbor is less than the current distance\n",
    "            labels[vj] = labels[vi] + weight # update the distance from source node to the neighbor\n",
    "            predecessor[vj] = vi # update the predecessor of the neighbor\n",
    "\n"
   ]
  },
  {
   "cell_type": "code",
   "execution_count": 6,
   "metadata": {},
   "outputs": [],
   "source": [
    "# function to get the path from source node to target node\n",
    "def get_predecessor_path(predecessor, target_node):\n",
    "    path = []\n",
    "    current_node = target_node\n",
    "    while current_node in predecessor: # while the current node has a predecessor\n",
    "        path.append(current_node) # add the current node to the path\n",
    "        current_node = predecessor[current_node] # update the current node to its predecessor\n",
    "    path.append(current_node) \n",
    "    path.reverse() # reverse the path to get the path from source node to target node\n",
    "    return path\n",
    "\n",
    "# target nodes\n",
    "target_node = [9328, 6031, 8543]  \n",
    "paths = {} # dictionary to store the path from source node to each target node\n",
    "\n",
    "# get the path from source node to each target node\n",
    "for i in range(0, len(target_node)):\n",
    "    target_node[i] = int(target_node[i])\n",
    "    paths[i] = get_predecessor_path(predecessor, target_node[i])\n"
   ]
  },
  {
   "cell_type": "code",
   "execution_count": 7,
   "metadata": {},
   "outputs": [],
   "source": [
    "# read in nodepl.txt\n",
    "nodepl = np.loadtxt('nodepl.txt')\n",
    "#convert to pandas df\n",
    "nodepl = pd.DataFrame(nodepl, columns=['x', 'y'])\n",
    "# add a column with the node number whih is the index\n",
    "nodepl['node'] = nodepl.index + 1\n",
    "\n",
    "\n",
    "for key, path in paths.items():\n",
    "    # turn path into a array with integer values\n",
    "    path = np.array(path).astype(int)\n",
    "    # make path into a pandas df with one column\n",
    "    path = pd.DataFrame(path, columns=['node'])\n",
    "    # join path with nodepl by node\n",
    "    path = pd.merge(path, nodepl, on='node', how='left')\n",
    "    # export path to csv\n",
    "    path.to_csv(f'path_custom_{key}.csv', index=False) # change file name here for different cost"
   ]
  },
  {
   "cell_type": "code",
   "execution_count": 11,
   "metadata": {},
   "outputs": [
    {
     "name": "stdout",
     "output_type": "stream",
     "text": [
      "Start node: 175\n"
     ]
    }
   ],
   "source": [
    "# function to get starting node\n",
    "def haversine(lat1, lon1, lat2, lon2): # function to calculate the distance between two coordinates on the Earth (from geomath)\n",
    "    R = 6371 # radius of the Earth in km\n",
    "    dlat = radians(lat2 - lat1)\n",
    "    dlon = radians(lon1 - lon2)\n",
    "    a = sin(dlat / 2) ** 2 + cos(radians(lat1)) * cos(radians(lat2)) * sin(dlon / 2) ** 2\n",
    "    c = 2 * atan2(sqrt(a), sqrt(1 - a))\n",
    "    return R * c\n",
    "\n",
    "# Set home coordinates and find nearest node\n",
    "home_lat, home_lon = 47.065307430925586, 15.44306321533678 # grazbachgasse 34\n",
    "distances = [haversine(home_lat, home_lon, row['x'], row['y']) for index, row in nodepl.iterrows()]\n",
    "start_node = np.argmin(distances) + 1 \n",
    "\n",
    "print(f'Start node: {start_node}')\n",
    "\n"
   ]
  }
 ],
 "metadata": {
  "kernelspec": {
   "display_name": "Python 3",
   "language": "python",
   "name": "python3"
  },
  "language_info": {
   "codemirror_mode": {
    "name": "ipython",
    "version": 3
   },
   "file_extension": ".py",
   "mimetype": "text/x-python",
   "name": "python",
   "nbconvert_exporter": "python",
   "pygments_lexer": "ipython3",
   "version": "3.12.1"
  }
 },
 "nbformat": 4,
 "nbformat_minor": 2
}
