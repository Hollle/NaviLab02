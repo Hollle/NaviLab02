{
 "cells": [
  {
   "cell_type": "code",
   "execution_count": 1,
   "metadata": {},
   "outputs": [],
   "source": [
    "import numpy as np\n",
    "import pandas as pd\n",
    "from math import radians, sin, cos, sqrt, atan2\n",
    "import heapq\n",
    "from collections import defaultdict\n",
    "import matplotlib.pyplot as plt"
   ]
  },
  {
   "cell_type": "code",
   "execution_count": 6,
   "metadata": {},
   "outputs": [
    {
     "name": "stdout",
     "output_type": "stream",
     "text": [
      "[1 4 6 6 8 9]\n",
      "[[ 2  4]\n",
      " [ 3 13]\n",
      " [ 4  3]\n",
      " [ 3 11]\n",
      " [ 5  3]\n",
      " [ 3  8]\n",
      " [ 5  6]\n",
      " [ 3  3]]\n"
     ]
    }
   ],
   "source": [
    "# general data loading\n",
    "#read nodelist\n",
    "nodelist = np.loadtxt('nodelist_example.txt', dtype = \"int\", skiprows=0)\n",
    "print(nodelist)\n",
    "#read arclist_example\n",
    "arclist = np.loadtxt('arclist_example.txt', dtype = \"int\", skiprows=0)\n",
    "print(arclist)"
   ]
  },
  {
   "cell_type": "code",
   "execution_count": 15,
   "metadata": {},
   "outputs": [
    {
     "data": {
      "text/plain": [
       "np.int64(4)"
      ]
     },
     "execution_count": 15,
     "metadata": {},
     "output_type": "execute_result"
    }
   ],
   "source": [
    "#source node\n",
    "vs = 1\n",
    "\n",
    "ls = 0\n",
    "big_T = {vs}\n",
    "big_P = set()\n",
    "big_V = nodelist\n",
    "min_distance = float(\"inf\")\n",
    "\n",
    "labels = {vs:0}\n",
    "\n",
    "nodelist[1]"
   ]
  },
  {
   "cell_type": "code",
   "execution_count": null,
   "metadata": {},
   "outputs": [
    {
     "name": "stdout",
     "output_type": "stream",
     "text": [
      "defaultdict(<class 'list'>, {1: [array([2, 4]), array([ 3, 13]), array([4, 3])], 2: [array([ 3, 11]), array([5, 3])], 4: [array([3, 8]), array([5, 6])], 5: [array([3, 3])]})\n"
     ]
    },
    {
     "data": {
      "text/plain": [
       "np.int64(3)"
      ]
     },
     "execution_count": 33,
     "metadata": {},
     "output_type": "execute_result"
    }
   ],
   "source": [
    "\n",
    "n_nodes = len(nodelist)-1\n",
    "outgoing = [0] * n_nodes\n",
    "line_number = 0\n",
    "\n",
    "neighbor = defaultdict(list)\n",
    "for i in range(0, n_nodes):\n",
    "    outgoing[i] = nodelist[i+1] - nodelist[i]\n",
    "    for j in range(0, outgoing[i]):\n",
    "        neighbor[i+1].append(arclist[line_number+j])\n",
    "    line_number = line_number + outgoing[i]\n",
    "\n",
    "print(neighbor)\n",
    "    \n",
    "\n"
   ]
  },
  {
   "cell_type": "code",
   "execution_count": null,
   "metadata": {},
   "outputs": [
    {
     "ename": "KeyboardInterrupt",
     "evalue": "",
     "output_type": "error",
     "traceback": [
      "\u001b[0;31m---------------------------------------------------------------------------\u001b[0m",
      "\u001b[0;31mKeyboardInterrupt\u001b[0m                         Traceback (most recent call last)",
      "Cell \u001b[0;32mIn[11], line 7\u001b[0m\n\u001b[1;32m      4\u001b[0m     \u001b[38;5;28;01melse\u001b[39;00m:\n\u001b[1;32m      5\u001b[0m         labels[vj] \u001b[38;5;241m=\u001b[39m \u001b[38;5;28mfloat\u001b[39m(\u001b[38;5;124m'\u001b[39m\u001b[38;5;124minf\u001b[39m\u001b[38;5;124m'\u001b[39m)\n\u001b[0;32m----> 7\u001b[0m \u001b[38;5;28;01mwhile\u001b[39;00m big_T:\n\u001b[1;32m      8\u001b[0m     \u001b[38;5;28;01mfor\u001b[39;00m vj \u001b[38;5;129;01min\u001b[39;00m big_T:\n\u001b[1;32m      9\u001b[0m         current_distance \u001b[38;5;241m=\u001b[39m labels[vj]\n",
      "\u001b[0;31mKeyboardInterrupt\u001b[0m: "
     ]
    }
   ],
   "source": [
    "for vj in big_V:\n",
    "    if vj == vs:\n",
    "        labels[vj] = 0\n",
    "    else:\n",
    "        labels[vj] = float('inf')\n",
    "\n",
    "while big_T:\n",
    "    for vj in big_T:\n",
    "        current_distance = labels[vj]\n",
    "    if current_distance < min_distance:\n",
    "        min_distance = current_distance \n",
    "        vi = vj \n",
    "    big_P.add(vi)\n",
    "    big_T.remove(vi)\n",
    "    for vj in neighbor[vi]:\n",
    "        if vj not in big_P and vj not in big_T:\n",
    "            labels[vj] = neighbor[vi][0][vj-vj+1]"
   ]
  }
 ],
 "metadata": {
  "kernelspec": {
   "display_name": "Python 3",
   "language": "python",
   "name": "python3"
  },
  "language_info": {
   "codemirror_mode": {
    "name": "ipython",
    "version": 3
   },
   "file_extension": ".py",
   "mimetype": "text/x-python",
   "name": "python",
   "nbconvert_exporter": "python",
   "pygments_lexer": "ipython3",
   "version": "3.12.1"
  }
 },
 "nbformat": 4,
 "nbformat_minor": 2
}
